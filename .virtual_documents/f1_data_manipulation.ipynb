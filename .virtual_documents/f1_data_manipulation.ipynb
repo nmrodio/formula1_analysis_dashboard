


# Importing dependencies
import pandas as pd


# Importing driver.csv data into a dataframe
drivers_df = pd.read_csv('Resources/drivers.csv')
drivers_df.head()

# Dropping "driverRef","number","code", and "url" columns from drivers_df
drivers_df = drivers_df[['driverId', 'forename', 'surname', 'dob', 'nationality']]
drivers_df.head()

# Changing column names to be more intuitive for drivers_df
drivers_df=drivers_df.rename(columns = {
                                        'driverId': 'driver_id', 
                                        'forename': 'first_name', 
                                        'surname': 'last_name'
                                        })
drivers_df


# Finding all unique nationalities in drivers_df
unique_nationalities = drivers_df['nationality'].unique()

print(unique_nationalities)


# Replacing nationality names for merge of lat and long later in code
nationality_replacements_driversdf = {
    "American-Italian": "Italian",
    "Argentine-Italian": "Italian",
    "East German": "German"
}

drivers_df['nationality'] = drivers_df['nationality'].replace(nationality_replacements_driversdf, regex=True)

# Filtering out rows that have 'Rhodesian' and 'Liechtensteiner' in the nationality column to avoid incorrect merging for lat and long
drivers_df = drivers_df[(drivers_df['nationality'] != 'Rhodesian') & (drivers_df['nationality'] != 'Liechtensteiner')]

drivers_df.head()


# Importing nationality.csv data into a dataframe
nationality_df = pd.read_csv('Resources/nationality.csv')

# Dropping "num_code","alpha_2_code" and "alpha_3_code" columns from nationality_df
nationality_df = nationality_df[['en_short_name', 'nationality']]

# Changing column names to be more intuitive for nationality_df
nationality_df=nationality_df.rename(columns = {'en_short_name': 'country_name'})
nationality_df.head()


# Replacing nationality names for merge of lat and long later in code
nationality_replacements_natdf = {
    "British, UK": "British",
    "Dutch, Netherlandic": "Dutch",
    'Hungarian, Magyar': "Hungarian",
    "Monégasque, Monacan": "Monegasque",
    "New Zealand, NZ": "New Zealander",
    "American-Italian": "Italian",
    "Argentine-Italian": "Italian",
    "East German": "German"
}

# Replacing country names for merge of lat and long later in code
nationality_df['nationality'] = nationality_df['nationality'].replace(nationality_replacements_natdf, regex=True)


# Replacements dictionary for country names
country_replacements_natdf = {
    "Russian Federation": "Russia",
    "United Kingdom of Great Britain and Northern Ireland": "United Kingdom",
    r"Venezuela \(Bolivarian Republic of\)": "Venezuela",
    "United States Minor Outlying Islands": "United States",
    "United States of America": "United States",
    "Czech Republic": "Czechia"
}

# Replacing country names for merge of lat and long later in code
nationality_df['country_name'] = nationality_df['country_name'].replace(country_replacements_natdf, regex=True)

nationality_df.head()


# Importing countries.csv data into a dataframe
countries_df = pd.read_csv('Resources/countries.csv')

# Dropping "country" column from countries_df
countries_df = countries_df[['latitude', 'longitude', 'name']]

# Changing column names to be more intuitive for nationality_df
countries_df=countries_df.rename(columns = {'name': 'country_name'})

countries_df


# Joining nationality_df into drivers_df through a left join on "nationality" to get "country_name"
merged_drivers_df = drivers_df.merge(nationality_df, on = 'nationality', how = 'left')

# Dropping the duplicate drivers that were created through the join
no_dupe_merged_drivers_df = merged_drivers_df.drop_duplicates(subset='driver_id', keep='first').reset_index(drop=True)

# Joining countries_df into no_dupe_merged_drivers_df through a left join on "country_name" to get "latitude" and "longtitude" which will be used for creating a map
cleaned_merged_drivers_df = no_dupe_merged_drivers_df.merge(countries_df, on = 'country_name', how = 'left')
cleaned_merged_drivers_df


# Count null values in each column to check that merging was succesfull
null_counts = cleaned_merged_drivers_df.isnull().sum()
null_counts


# Double check data types
cleaned_merged_drivers_df.dtypes


# Exporting the DataFrame "cleaned_merged_drivers_df" as a CSV file. 
cleaned_merged_drivers_df.to_csv("Resources/output_data_for_tables/drivers.csv", index=False)


#Import constructor.csv data
construct_df = pd.read_csv('Resources/constructors.csv')

#Dropping constructorRef, nationality, and url
construct_df = construct_df[['constructorId', 'name']]

#renaming column name to fit formatting practices
construct_df.rename(columns = {'constructorId' : 'constructor_id', 'name' : 'make'})

construct_df.head()


#Check individual format names
construct_df['name'].unique()


construct_df.to_csv("Resources/output_data_for_tables/constructors.csv", index=False)







